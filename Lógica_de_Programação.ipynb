{
  "nbformat": 4,
  "nbformat_minor": 0,
  "metadata": {
    "colab": {
      "name": "Lógica de Programação.ipynb",
      "provenance": [],
      "collapsed_sections": [],
      "authorship_tag": "ABX9TyPj6sACLN62cFmYyh8UlfrM",
      "include_colab_link": true
    },
    "kernelspec": {
      "name": "python3",
      "display_name": "Python 3"
    },
    "language_info": {
      "name": "python"
    }
  },
  "cells": [
    {
      "cell_type": "markdown",
      "metadata": {
        "id": "view-in-github",
        "colab_type": "text"
      },
      "source": [
        "<a href=\"https://colab.research.google.com/github/leobraga/django-pro/blob/main/L%C3%B3gica_de_Programa%C3%A7%C3%A3o.ipynb\" target=\"_parent\"><img src=\"https://colab.research.google.com/assets/colab-badge.svg\" alt=\"Open In Colab\"/></a>"
      ]
    },
    {
      "cell_type": "markdown",
      "metadata": {
        "id": "KyacPn_gpQzx"
      },
      "source": [
        "# Fundamentos de Lógica de Programação com Python\n"
      ]
    },
    {
      "cell_type": "markdown",
      "metadata": {
        "id": "4_BaWTaGpmZt"
      },
      "source": [
        "## Tipo Inteiro"
      ]
    },
    {
      "cell_type": "code",
      "metadata": {
        "colab": {
          "base_uri": "https://localhost:8080/"
        },
        "id": "CX5Ax5VPpsge",
        "outputId": "bfab3831-813d-4048-e8bf-d129feb55c82"
      },
      "source": [
        "type(1)"
      ],
      "execution_count": null,
      "outputs": [
        {
          "output_type": "execute_result",
          "data": {
            "text/plain": [
              "int"
            ]
          },
          "metadata": {},
          "execution_count": 14
        }
      ]
    },
    {
      "cell_type": "code",
      "metadata": {
        "colab": {
          "base_uri": "https://localhost:8080/"
        },
        "id": "U93WfYFPqk5q",
        "outputId": "71ed7e73-550b-4e6a-c7b1-75cdcde67955"
      },
      "source": [
        "1+2"
      ],
      "execution_count": null,
      "outputs": [
        {
          "output_type": "execute_result",
          "data": {
            "text/plain": [
              "3"
            ]
          },
          "metadata": {},
          "execution_count": 15
        }
      ]
    },
    {
      "cell_type": "code",
      "metadata": {
        "colab": {
          "base_uri": "https://localhost:8080/"
        },
        "id": "2cHZZhenq0SS",
        "outputId": "f2615f5c-75f7-48e6-899f-b61cab3518b8"
      },
      "source": [
        "5 - 3"
      ],
      "execution_count": null,
      "outputs": [
        {
          "output_type": "execute_result",
          "data": {
            "text/plain": [
              "2"
            ]
          },
          "metadata": {},
          "execution_count": 16
        }
      ]
    },
    {
      "cell_type": "code",
      "metadata": {
        "colab": {
          "base_uri": "https://localhost:8080/"
        },
        "id": "LR_yK5saq7Gf",
        "outputId": "90254a95-e3ea-4489-a450-b84dc3479e7d"
      },
      "source": [
        "6 * 7"
      ],
      "execution_count": null,
      "outputs": [
        {
          "output_type": "execute_result",
          "data": {
            "text/plain": [
              "42"
            ]
          },
          "metadata": {},
          "execution_count": 17
        }
      ]
    },
    {
      "cell_type": "code",
      "metadata": {
        "colab": {
          "base_uri": "https://localhost:8080/"
        },
        "id": "_TeyW1eQrCnK",
        "outputId": "8c13feff-8d94-4837-95bd-e736b6c7e847"
      },
      "source": [
        "43 % 6"
      ],
      "execution_count": null,
      "outputs": [
        {
          "output_type": "execute_result",
          "data": {
            "text/plain": [
              "1"
            ]
          },
          "metadata": {},
          "execution_count": 18
        }
      ]
    },
    {
      "cell_type": "code",
      "metadata": {
        "colab": {
          "base_uri": "https://localhost:8080/"
        },
        "id": "i5fYpO32rx1A",
        "outputId": "ab037dfe-c7f1-4d14-a953-4d267a6c2397"
      },
      "source": [
        "43 / 6"
      ],
      "execution_count": null,
      "outputs": [
        {
          "output_type": "execute_result",
          "data": {
            "text/plain": [
              "7.166666666666667"
            ]
          },
          "metadata": {},
          "execution_count": 19
        }
      ]
    },
    {
      "cell_type": "code",
      "metadata": {
        "colab": {
          "base_uri": "https://localhost:8080/"
        },
        "id": "hAy-dPs_rRak",
        "outputId": "23e072ad-06b6-4202-e2e4-0ec48239dc56"
      },
      "source": [
        "43 // 6"
      ],
      "execution_count": null,
      "outputs": [
        {
          "output_type": "execute_result",
          "data": {
            "text/plain": [
              "7"
            ]
          },
          "metadata": {},
          "execution_count": 20
        }
      ]
    },
    {
      "cell_type": "code",
      "metadata": {
        "colab": {
          "base_uri": "https://localhost:8080/"
        },
        "id": "y55raGD1sAL0",
        "outputId": "4419b688-0f7b-4be8-d30b-526be8ba99bd"
      },
      "source": [
        "2 ** 63 - 1"
      ],
      "execution_count": null,
      "outputs": [
        {
          "output_type": "execute_result",
          "data": {
            "text/plain": [
              "9223372036854775807"
            ]
          },
          "metadata": {},
          "execution_count": 21
        }
      ]
    },
    {
      "cell_type": "code",
      "metadata": {
        "colab": {
          "base_uri": "https://localhost:8080/"
        },
        "id": "vA6Bb9i3sapW",
        "outputId": "dae5422a-9b3e-4a32-ab13-4800409435c4"
      },
      "source": [
        "9_223_372_036_854_775_807"
      ],
      "execution_count": null,
      "outputs": [
        {
          "output_type": "execute_result",
          "data": {
            "text/plain": [
              "9223372036854775807"
            ]
          },
          "metadata": {},
          "execution_count": 22
        }
      ]
    },
    {
      "cell_type": "code",
      "metadata": {
        "colab": {
          "base_uri": "https://localhost:8080/"
        },
        "id": "XOTUSsahss68",
        "outputId": "c9d6736e-e387-4ac3-8342-cf3af6986a88"
      },
      "source": [
        "2 ** 1000"
      ],
      "execution_count": null,
      "outputs": [
        {
          "output_type": "execute_result",
          "data": {
            "text/plain": [
              "10715086071862673209484250490600018105614048117055336074437503883703510511249361224931983788156958581275946729175531468251871452856923140435984577574698574803934567774824230985421074605062371141877954182153046474983581941267398767559165543946077062914571196477686542167660429831652624386837205668069376"
            ]
          },
          "metadata": {},
          "execution_count": 23
        }
      ]
    },
    {
      "cell_type": "markdown",
      "metadata": {
        "id": "w10Ee1bFs_Vf"
      },
      "source": [
        "## Tipo Ponto Flutuante\n"
      ]
    },
    {
      "cell_type": "code",
      "metadata": {
        "colab": {
          "base_uri": "https://localhost:8080/"
        },
        "id": "lvfhcbLntJw9",
        "outputId": "04faa8fd-5047-426a-f2fe-98626dd4c5c2"
      },
      "source": [
        "type (7.166666666666667)"
      ],
      "execution_count": null,
      "outputs": [
        {
          "output_type": "execute_result",
          "data": {
            "text/plain": [
              "float"
            ]
          },
          "metadata": {},
          "execution_count": 24
        }
      ]
    },
    {
      "cell_type": "code",
      "metadata": {
        "colab": {
          "base_uri": "https://localhost:8080/"
        },
        "id": "33F_VKjUttp6",
        "outputId": "c00fa3f8-b22a-486a-fe8e-33007dcb7d94"
      },
      "source": [
        "7.5 + 5, 5.5 - 7, 7.2 * 2, 2.1 ** 2, 7.3 / 2"
      ],
      "execution_count": null,
      "outputs": [
        {
          "output_type": "execute_result",
          "data": {
            "text/plain": [
              "(12.5, -1.5, 14.4, 4.41, 3.65)"
            ]
          },
          "metadata": {},
          "execution_count": 25
        }
      ]
    },
    {
      "cell_type": "markdown",
      "metadata": {
        "id": "b6F5wr9hvHYe"
      },
      "source": [
        "## Variáveis\n"
      ]
    },
    {
      "cell_type": "code",
      "metadata": {
        "colab": {
          "base_uri": "https://localhost:8080/"
        },
        "id": "4h5HJSodvLLg",
        "outputId": "96021647-187f-48fb-f5cc-56db2c48fe21"
      },
      "source": [
        "pi = 3.1415\n",
        "raio = 2\n",
        "pi * (raio ** 2)"
      ],
      "execution_count": null,
      "outputs": [
        {
          "output_type": "execute_result",
          "data": {
            "text/plain": [
              "12.566"
            ]
          },
          "metadata": {},
          "execution_count": 28
        }
      ]
    },
    {
      "cell_type": "code",
      "metadata": {
        "colab": {
          "base_uri": "https://localhost:8080/",
          "height": 171
        },
        "id": "oEk4-PUoGfpA",
        "outputId": "59ac566c-3e9e-4be6-92a4-17addaf98d33"
      },
      "source": [
        "nao_existe"
      ],
      "execution_count": null,
      "outputs": [
        {
          "output_type": "error",
          "ename": "NameError",
          "evalue": "ignored",
          "traceback": [
            "\u001b[0;31m---------------------------------------------------------------------------\u001b[0m",
            "\u001b[0;31mNameError\u001b[0m                                 Traceback (most recent call last)",
            "\u001b[0;32m<ipython-input-1-c00b538a1e2f>\u001b[0m in \u001b[0;36m<module>\u001b[0;34m()\u001b[0m\n\u001b[0;32m----> 1\u001b[0;31m \u001b[0mnao_existe\u001b[0m\u001b[0;34m\u001b[0m\u001b[0;34m\u001b[0m\u001b[0m\n\u001b[0m",
            "\u001b[0;31mNameError\u001b[0m: name 'nao_existe' is not defined"
          ]
        }
      ]
    },
    {
      "cell_type": "markdown",
      "metadata": {
        "id": "VmDBciBjGykU"
      },
      "source": [
        "## Cadeia de caracteres (string)\n",
        "\n",
        "\n"
      ]
    },
    {
      "cell_type": "code",
      "metadata": {
        "colab": {
          "base_uri": "https://localhost:8080/"
        },
        "id": "J_TyER1gHIvp",
        "outputId": "806f2713-8efb-4fbf-bd8b-92aef174b322"
      },
      "source": [
        "print('Olá Mundo!')"
      ],
      "execution_count": null,
      "outputs": [
        {
          "output_type": "stream",
          "name": "stdout",
          "text": [
            "Olá Mundo!\n"
          ]
        }
      ]
    },
    {
      "cell_type": "code",
      "metadata": {
        "colab": {
          "base_uri": "https://localhost:8080/"
        },
        "id": "KDl8E_c0Hiso",
        "outputId": "2973860c-71e2-4f3c-8886-8d0cc5f88a16"
      },
      "source": [
        "type('Leandro'), type(\"Leandro\"), type('''Leandro'''), type(\"\"\"Leandro\"\"\")"
      ],
      "execution_count": null,
      "outputs": [
        {
          "output_type": "execute_result",
          "data": {
            "text/plain": [
              "(str, str, str, str)"
            ]
          },
          "metadata": {},
          "execution_count": 5
        }
      ]
    },
    {
      "cell_type": "code",
      "metadata": {
        "colab": {
          "base_uri": "https://localhost:8080/",
          "height": 35
        },
        "id": "9sFrbtOJIOo8",
        "outputId": "307cf5c0-8856-484c-d600-8fcd4202b818"
      },
      "source": [
        "nome = 'Leandro'\n",
        "nome"
      ],
      "execution_count": null,
      "outputs": [
        {
          "output_type": "execute_result",
          "data": {
            "application/vnd.google.colaboratory.intrinsic+json": {
              "type": "string"
            },
            "text/plain": [
              "'Leandro'"
            ]
          },
          "metadata": {},
          "execution_count": 6
        }
      ]
    },
    {
      "cell_type": "code",
      "metadata": {
        "colab": {
          "base_uri": "https://localhost:8080/",
          "height": 35
        },
        "id": "OeK7LpD8JLXL",
        "outputId": "e8711c58-cba8-451b-e3a9-2bc994b6d2f3"
      },
      "source": [
        "nome = \"\"\" \"Leandro's \"name\" \"\"\"\n",
        "nome"
      ],
      "execution_count": null,
      "outputs": [
        {
          "output_type": "execute_result",
          "data": {
            "application/vnd.google.colaboratory.intrinsic+json": {
              "type": "string"
            },
            "text/plain": [
              "' \"Leandro\\'s \"name\" '"
            ]
          },
          "metadata": {},
          "execution_count": 11
        }
      ]
    },
    {
      "cell_type": "code",
      "metadata": {
        "colab": {
          "base_uri": "https://localhost:8080/"
        },
        "id": "bY2yC578JwxV",
        "outputId": "bae02ad3-b7fb-4f8c-beca-a647237fa569"
      },
      "source": [
        "nome = '''Leandro\n",
        "Braga'''\n",
        "print(nome)"
      ],
      "execution_count": null,
      "outputs": [
        {
          "output_type": "stream",
          "name": "stdout",
          "text": [
            "Leandro\n",
            "Braga\n"
          ]
        }
      ]
    },
    {
      "cell_type": "markdown",
      "metadata": {
        "id": "Q-wcTF-HKv_a"
      },
      "source": [
        "## Tipos Booleanos"
      ]
    },
    {
      "cell_type": "code",
      "metadata": {
        "colab": {
          "base_uri": "https://localhost:8080/"
        },
        "id": "tRt2yDGPKz9R",
        "outputId": "e4d096b2-b238-416f-e908-1e65c1a95512"
      },
      "source": [
        "True, False, type(True), type(False)"
      ],
      "execution_count": null,
      "outputs": [
        {
          "output_type": "execute_result",
          "data": {
            "text/plain": [
              "(True, False, bool, bool)"
            ]
          },
          "metadata": {},
          "execution_count": 21
        }
      ]
    },
    {
      "cell_type": "code",
      "metadata": {
        "colab": {
          "base_uri": "https://localhost:8080/"
        },
        "id": "EUHlR5i-LfHA",
        "outputId": "a20979a5-47a6-4b28-da37-7bf2b7f59380"
      },
      "source": [
        "not True, not False"
      ],
      "execution_count": null,
      "outputs": [
        {
          "output_type": "execute_result",
          "data": {
            "text/plain": [
              "(False, True)"
            ]
          },
          "metadata": {},
          "execution_count": 24
        }
      ]
    },
    {
      "cell_type": "code",
      "metadata": {
        "colab": {
          "base_uri": "https://localhost:8080/"
        },
        "id": "-wFZnll0L1xL",
        "outputId": "1696ba70-da4b-4633-b0ff-1814494c0891"
      },
      "source": [
        "True and True, True and False, False and True, False and False"
      ],
      "execution_count": null,
      "outputs": [
        {
          "output_type": "execute_result",
          "data": {
            "text/plain": [
              "(True, False, False, False)"
            ]
          },
          "metadata": {},
          "execution_count": 27
        }
      ]
    },
    {
      "cell_type": "code",
      "metadata": {
        "colab": {
          "base_uri": "https://localhost:8080/"
        },
        "id": "P55Ogps-MYjV",
        "outputId": "b58fbe51-6a03-4994-93be-8b31689ad4f1"
      },
      "source": [
        "True or True, True or False, False or True, False or False"
      ],
      "execution_count": null,
      "outputs": [
        {
          "output_type": "execute_result",
          "data": {
            "text/plain": [
              "(True, True, True, False)"
            ]
          },
          "metadata": {},
          "execution_count": 28
        }
      ]
    },
    {
      "cell_type": "code",
      "metadata": {
        "colab": {
          "base_uri": "https://localhost:8080/"
        },
        "id": "9Xlf8yb-Mz9y",
        "outputId": "7214287b-8953-4227-a5fb-abc1cc002632"
      },
      "source": [
        "5 < 6, 5 >= 6, 5 == 4, 5 == 5, 5 != 4, 5 != 5, 'Leo' == 'Leo'"
      ],
      "execution_count": null,
      "outputs": [
        {
          "output_type": "execute_result",
          "data": {
            "text/plain": [
              "(True, False, False, True, True, False, True)"
            ]
          },
          "metadata": {},
          "execution_count": 35
        }
      ]
    },
    {
      "cell_type": "code",
      "metadata": {
        "colab": {
          "base_uri": "https://localhost:8080/"
        },
        "id": "X-Txpci3N5w-",
        "outputId": "e6416df5-7c12-44b4-8d90-7a8f8cb85f92"
      },
      "source": [
        "nome = 'Leandro'\n",
        "nome == 'leandro'"
      ],
      "execution_count": null,
      "outputs": [
        {
          "output_type": "execute_result",
          "data": {
            "text/plain": [
              "False"
            ]
          },
          "metadata": {},
          "execution_count": 36
        }
      ]
    },
    {
      "cell_type": "markdown",
      "metadata": {
        "id": "rRhXj6h2OOJP"
      },
      "source": [
        "## Desvios Lógicos"
      ]
    },
    {
      "cell_type": "code",
      "metadata": {
        "colab": {
          "base_uri": "https://localhost:8080/"
        },
        "id": "Jo35Io9sOSpg",
        "outputId": "8e74768e-1444-4551-c177-ed9db03eae16"
      },
      "source": [
        "idade = 65\n",
        "if idade < 18:\n",
        "  print(f'Menor de idade:{idade}')\n",
        "elif idade >= 65:\n",
        "  print(f'Pessoa idosa: {idade}')\n",
        "else:\n",
        "  print(f'Maior de idade: {idade}')  "
      ],
      "execution_count": null,
      "outputs": [
        {
          "output_type": "stream",
          "name": "stdout",
          "text": [
            "Pessoa idosa: 65\n"
          ]
        }
      ]
    },
    {
      "cell_type": "markdown",
      "metadata": {
        "id": "kRBn5yiT6J0J"
      },
      "source": [
        "## Funções"
      ]
    },
    {
      "cell_type": "code",
      "metadata": {
        "id": "jZJzJr4k6Nhc"
      },
      "source": [
        "def classificar(idade, nome):\n",
        "  if idade < 18:\n",
        "    return f'{nome} é menor de idade:{idade}'\n",
        "  elif idade >= 65:\n",
        "    return f'{nome} é um idoso(a): {idade}'\n",
        "  else:\n",
        "    return f'{nome} é maior de idade: {idade}' "
      ],
      "execution_count": null,
      "outputs": []
    },
    {
      "cell_type": "code",
      "metadata": {
        "colab": {
          "base_uri": "https://localhost:8080/"
        },
        "id": "XyCrXHhA7wtL",
        "outputId": "c068c308-be5f-4181-b809-16a1fd880706"
      },
      "source": [
        "classificar(55, 'Leandro'), classificar(150, 'Matusalém')"
      ],
      "execution_count": null,
      "outputs": [
        {
          "output_type": "execute_result",
          "data": {
            "text/plain": [
              "('Leandro é maior de idade: 55', 'Matusalém é um idoso(a): 150')"
            ]
          },
          "metadata": {},
          "execution_count": 3
        }
      ]
    },
    {
      "cell_type": "markdown",
      "metadata": {
        "id": "-ZFh8mn4EEis"
      },
      "source": [
        "## Sequências\n"
      ]
    },
    {
      "cell_type": "code",
      "metadata": {
        "colab": {
          "base_uri": "https://localhost:8080/"
        },
        "id": "k7w4VsbxEI6h",
        "outputId": "e5e1864a-6b53-49a4-c727-2330fa83a063"
      },
      "source": [
        "lista = [1, 4.5, True, []]\n",
        "type(lista), lista"
      ],
      "execution_count": null,
      "outputs": [
        {
          "output_type": "execute_result",
          "data": {
            "text/plain": [
              "(list, [1, 4.5, True, []])"
            ]
          },
          "metadata": {},
          "execution_count": 5
        }
      ]
    },
    {
      "cell_type": "markdown",
      "metadata": {
        "id": "1HXKZ1eOE7Gz"
      },
      "source": [
        "## Acesso à elementos\n"
      ]
    },
    {
      "cell_type": "code",
      "metadata": {
        "colab": {
          "base_uri": "https://localhost:8080/"
        },
        "id": "IjA9_IrqE-Te",
        "outputId": "a76fe223-099f-4112-8988-7925d454733b"
      },
      "source": [
        "lista[0], lista[1]"
      ],
      "execution_count": null,
      "outputs": [
        {
          "output_type": "execute_result",
          "data": {
            "text/plain": [
              "(1, 4.5)"
            ]
          },
          "metadata": {},
          "execution_count": 10
        }
      ]
    },
    {
      "cell_type": "code",
      "metadata": {
        "colab": {
          "base_uri": "https://localhost:8080/"
        },
        "id": "iyb2YjO7FnpJ",
        "outputId": "6b246817-5eb0-4520-fa9a-177ddddd7c0f"
      },
      "source": [
        "len(lista), lista[-1], lista[-2]"
      ],
      "execution_count": null,
      "outputs": [
        {
          "output_type": "execute_result",
          "data": {
            "text/plain": [
              "(4, [], True)"
            ]
          },
          "metadata": {},
          "execution_count": 13
        }
      ]
    },
    {
      "cell_type": "markdown",
      "metadata": {
        "id": "1vHaBoL2GRK8"
      },
      "source": [
        "## Fatiamento\n"
      ]
    },
    {
      "cell_type": "code",
      "metadata": {
        "colab": {
          "base_uri": "https://localhost:8080/"
        },
        "id": "kMWo-dBAGTr-",
        "outputId": "e57f575b-d3ae-46e0-9cff-4ca03621ad0b"
      },
      "source": [
        "lista[1:3], lista[0:3], lista[:3], lista[2:]"
      ],
      "execution_count": null,
      "outputs": [
        {
          "output_type": "execute_result",
          "data": {
            "text/plain": [
              "([4.5, True], [1, 4.5, True], [1, 4.5, True], [True, []])"
            ]
          },
          "metadata": {},
          "execution_count": 27
        }
      ]
    },
    {
      "cell_type": "code",
      "metadata": {
        "colab": {
          "base_uri": "https://localhost:8080/"
        },
        "id": "aMC_OPimI5ad",
        "outputId": "cf6f10eb-fba5-497b-c88d-edde92b0d626"
      },
      "source": [
        "lista[:]"
      ],
      "execution_count": null,
      "outputs": [
        {
          "output_type": "execute_result",
          "data": {
            "text/plain": [
              "[1, 4.5, True, []]"
            ]
          },
          "metadata": {},
          "execution_count": 28
        }
      ]
    },
    {
      "cell_type": "code",
      "metadata": {
        "colab": {
          "base_uri": "https://localhost:8080/"
        },
        "id": "uKMqD14yJDeG",
        "outputId": "2a856976-fde7-4287-ea67-bbf009e05404"
      },
      "source": [
        "numeros = list(range(1, 11))\n",
        "numeros, numeros[1:7], numeros[1:7:2]"
      ],
      "execution_count": null,
      "outputs": [
        {
          "output_type": "execute_result",
          "data": {
            "text/plain": [
              "([1, 2, 3, 4, 5, 6, 7, 8, 9, 10], [2, 3, 4, 5, 6, 7], [2, 4, 6])"
            ]
          },
          "metadata": {},
          "execution_count": 38
        }
      ]
    },
    {
      "cell_type": "code",
      "metadata": {
        "colab": {
          "base_uri": "https://localhost:8080/"
        },
        "id": "KhnuugfWLAH3",
        "outputId": "9a250ea6-1639-443e-e69d-979d060817e1"
      },
      "source": [
        "list(range(1, 31, 2))"
      ],
      "execution_count": null,
      "outputs": [
        {
          "output_type": "execute_result",
          "data": {
            "text/plain": [
              "[1, 3, 5, 7, 9, 11, 13, 15, 17, 19, 21, 23, 25, 27, 29]"
            ]
          },
          "metadata": {},
          "execution_count": 39
        }
      ]
    },
    {
      "cell_type": "code",
      "metadata": {
        "colab": {
          "base_uri": "https://localhost:8080/"
        },
        "id": "721DRy8eLYKi",
        "outputId": "cee38318-5777-45e4-97f0-7f70e374d749"
      },
      "source": [
        "nome = 'Leandro Braga'\n",
        "nome[0], nome[:6]"
      ],
      "execution_count": null,
      "outputs": [
        {
          "output_type": "execute_result",
          "data": {
            "text/plain": [
              "('L', 'Leandr')"
            ]
          },
          "metadata": {},
          "execution_count": 49
        }
      ]
    },
    {
      "cell_type": "markdown",
      "metadata": {
        "id": "BldS9nRxM1as"
      },
      "source": [
        "## Adição e remoção\n"
      ]
    },
    {
      "cell_type": "code",
      "metadata": {
        "id": "MlUzm16NT-8h"
      },
      "source": [
        "sequencia = list(range(1, 11))"
      ],
      "execution_count": 50,
      "outputs": []
    },
    {
      "cell_type": "code",
      "metadata": {
        "colab": {
          "base_uri": "https://localhost:8080/"
        },
        "id": "-dyjjF1kUGto",
        "outputId": "b28746aa-e309-4742-d2f4-58ae11aac7a7"
      },
      "source": [
        "sequencia"
      ],
      "execution_count": 51,
      "outputs": [
        {
          "output_type": "execute_result",
          "data": {
            "text/plain": [
              "[1, 2, 3, 4, 5, 6, 7, 8, 9, 10]"
            ]
          },
          "metadata": {},
          "execution_count": 51
        }
      ]
    },
    {
      "cell_type": "code",
      "metadata": {
        "colab": {
          "base_uri": "https://localhost:8080/"
        },
        "id": "onWylea2UcZ7",
        "outputId": "5f26daa1-126c-4690-e652-dce19a8bb9ca"
      },
      "source": [
        "dir(sequencia)"
      ],
      "execution_count": 46,
      "outputs": [
        {
          "output_type": "execute_result",
          "data": {
            "text/plain": [
              "['__add__',\n",
              " '__class__',\n",
              " '__contains__',\n",
              " '__delattr__',\n",
              " '__delitem__',\n",
              " '__dir__',\n",
              " '__doc__',\n",
              " '__eq__',\n",
              " '__format__',\n",
              " '__ge__',\n",
              " '__getattribute__',\n",
              " '__getitem__',\n",
              " '__gt__',\n",
              " '__hash__',\n",
              " '__iadd__',\n",
              " '__imul__',\n",
              " '__init__',\n",
              " '__init_subclass__',\n",
              " '__iter__',\n",
              " '__le__',\n",
              " '__len__',\n",
              " '__lt__',\n",
              " '__mul__',\n",
              " '__ne__',\n",
              " '__new__',\n",
              " '__reduce__',\n",
              " '__reduce_ex__',\n",
              " '__repr__',\n",
              " '__reversed__',\n",
              " '__rmul__',\n",
              " '__setattr__',\n",
              " '__setitem__',\n",
              " '__sizeof__',\n",
              " '__str__',\n",
              " '__subclasshook__',\n",
              " 'append',\n",
              " 'clear',\n",
              " 'copy',\n",
              " 'count',\n",
              " 'extend',\n",
              " 'index',\n",
              " 'insert',\n",
              " 'pop',\n",
              " 'remove',\n",
              " 'reverse',\n",
              " 'sort']"
            ]
          },
          "metadata": {},
          "execution_count": 46
        }
      ]
    },
    {
      "cell_type": "code",
      "metadata": {
        "colab": {
          "base_uri": "https://localhost:8080/"
        },
        "id": "zRbT45NeUOat",
        "outputId": "eb10e57d-7432-4ea4-fbd9-503f271c6321"
      },
      "source": [
        "sequencia.pop()"
      ],
      "execution_count": 53,
      "outputs": [
        {
          "output_type": "execute_result",
          "data": {
            "text/plain": [
              "10"
            ]
          },
          "metadata": {},
          "execution_count": 53
        }
      ]
    },
    {
      "cell_type": "code",
      "metadata": {
        "colab": {
          "base_uri": "https://localhost:8080/"
        },
        "id": "srjrlgixVuGm",
        "outputId": "4c89b26f-a7ee-41ba-e494-b7ce9e5bc231"
      },
      "source": [
        "sequencia"
      ],
      "execution_count": 54,
      "outputs": [
        {
          "output_type": "execute_result",
          "data": {
            "text/plain": [
              "[1, 2, 3, 4, 5, 6, 7, 8, 9]"
            ]
          },
          "metadata": {},
          "execution_count": 54
        }
      ]
    },
    {
      "cell_type": "code",
      "metadata": {
        "colab": {
          "base_uri": "https://localhost:8080/"
        },
        "id": "dVjo97vTVW7R",
        "outputId": "665cdca5-794b-454e-a430-56f62fe07f99"
      },
      "source": [
        "help(sequencia.pop)"
      ],
      "execution_count": 48,
      "outputs": [
        {
          "output_type": "stream",
          "name": "stdout",
          "text": [
            "Help on built-in function pop:\n",
            "\n",
            "pop(index=-1, /) method of builtins.list instance\n",
            "    Remove and return item at index (default last).\n",
            "    \n",
            "    Raises IndexError if list is empty or index is out of range.\n",
            "\n"
          ]
        }
      ]
    },
    {
      "cell_type": "code",
      "metadata": {
        "id": "TnBvBqyIUveS"
      },
      "source": [
        "sequencia.append(10)"
      ],
      "execution_count": 42,
      "outputs": []
    },
    {
      "cell_type": "code",
      "metadata": {
        "colab": {
          "base_uri": "https://localhost:8080/"
        },
        "id": "BtsiA525U8Pv",
        "outputId": "c5d895c2-d549-45ed-e2ba-c17fb1de8741"
      },
      "source": [
        "sequencia"
      ],
      "execution_count": 43,
      "outputs": [
        {
          "output_type": "execute_result",
          "data": {
            "text/plain": [
              "[1, 2, 3, 4, 5, 6, 7, 8, 9, 10]"
            ]
          },
          "metadata": {},
          "execution_count": 43
        }
      ]
    },
    {
      "cell_type": "code",
      "metadata": {
        "id": "QJNrJEXlU_AM"
      },
      "source": [
        "sequencia.extend([11, 12])"
      ],
      "execution_count": 44,
      "outputs": []
    },
    {
      "cell_type": "code",
      "metadata": {
        "colab": {
          "base_uri": "https://localhost:8080/"
        },
        "id": "TA0B6P7yVE8I",
        "outputId": "3944570a-38c8-47ee-aed4-67292ece8be0"
      },
      "source": [
        "sequencia"
      ],
      "execution_count": 55,
      "outputs": [
        {
          "output_type": "execute_result",
          "data": {
            "text/plain": [
              "[1, 2, 3, 4, 5, 6, 7, 8, 9]"
            ]
          },
          "metadata": {},
          "execution_count": 55
        }
      ]
    },
    {
      "cell_type": "code",
      "metadata": {
        "colab": {
          "base_uri": "https://localhost:8080/"
        },
        "id": "prTQjfmrWGCF",
        "outputId": "865dd9fa-510d-4ffd-8587-fc187a9a5b0c"
      },
      "source": [
        "[1, 3] + [2, 4]"
      ],
      "execution_count": 56,
      "outputs": [
        {
          "output_type": "execute_result",
          "data": {
            "text/plain": [
              "[1, 3, 2, 4]"
            ]
          },
          "metadata": {},
          "execution_count": 56
        }
      ]
    },
    {
      "cell_type": "code",
      "metadata": {
        "colab": {
          "base_uri": "https://localhost:8080/"
        },
        "id": "L_6aaZmHWPXv",
        "outputId": "7fa78e39-fcee-4564-bafe-ba0c2d9238b8"
      },
      "source": [
        "[1, 3] * 3"
      ],
      "execution_count": 57,
      "outputs": [
        {
          "output_type": "execute_result",
          "data": {
            "text/plain": [
              "[1, 3, 1, 3, 1, 3]"
            ]
          },
          "metadata": {},
          "execution_count": 57
        }
      ]
    },
    {
      "cell_type": "code",
      "metadata": {
        "colab": {
          "base_uri": "https://localhost:8080/",
          "height": 35
        },
        "id": "1CxW9ghUWe76",
        "outputId": "a6924c1a-eab8-4634-fef5-4efea7f85070"
      },
      "source": [
        "'Leandro ' + 'Braga'"
      ],
      "execution_count": 58,
      "outputs": [
        {
          "output_type": "execute_result",
          "data": {
            "application/vnd.google.colaboratory.intrinsic+json": {
              "type": "string"
            },
            "text/plain": [
              "'Leandro Braga'"
            ]
          },
          "metadata": {},
          "execution_count": 58
        }
      ]
    },
    {
      "cell_type": "code",
      "metadata": {
        "colab": {
          "base_uri": "https://localhost:8080/",
          "height": 35
        },
        "id": "DQodS9q5WohJ",
        "outputId": "a1cecaa1-8c5a-4686-e26c-3cbdaf44b946"
      },
      "source": [
        "'bla ' * 3"
      ],
      "execution_count": 60,
      "outputs": [
        {
          "output_type": "execute_result",
          "data": {
            "application/vnd.google.colaboratory.intrinsic+json": {
              "type": "string"
            },
            "text/plain": [
              "'bla bla bla '"
            ]
          },
          "metadata": {},
          "execution_count": 60
        }
      ]
    },
    {
      "cell_type": "markdown",
      "metadata": {
        "id": "SMiHteFlWzhp"
      },
      "source": [
        "## Laços de Repetição"
      ]
    },
    {
      "cell_type": "code",
      "metadata": {
        "id": "Z04uPkSjYDOS"
      },
      "source": [
        "def classificar(idade, nome):\n",
        "  if idade < 18:\n",
        "    return f'{nome} é menor de idade:{idade}'\n",
        "  elif idade >= 65:\n",
        "    return f'{nome} é um idoso(a): {idade}'\n",
        "  else:\n",
        "    return f'{nome} é maior de idade: {idade}' "
      ],
      "execution_count": 63,
      "outputs": []
    },
    {
      "cell_type": "code",
      "metadata": {
        "colab": {
          "base_uri": "https://localhost:8080/",
          "height": 35
        },
        "id": "4JwwlyQcYEmn",
        "outputId": "eca7e1c5-3c36-4081-a047-ba976f9542b6"
      },
      "source": [
        "idades = [17, 38, 70, 80]\n",
        "classificar(idades[0], 'Leandro')"
      ],
      "execution_count": 69,
      "outputs": [
        {
          "output_type": "execute_result",
          "data": {
            "application/vnd.google.colaboratory.intrinsic+json": {
              "type": "string"
            },
            "text/plain": [
              "'Leandro é menor de idade:17'"
            ]
          },
          "metadata": {},
          "execution_count": 69
        }
      ]
    },
    {
      "cell_type": "code",
      "metadata": {
        "colab": {
          "base_uri": "https://localhost:8080/"
        },
        "id": "FcMj3r2LZDKN",
        "outputId": "f4d9d928-69d0-40b4-fb99-c4c4e61b2b23"
      },
      "source": [
        "for v in idades:\n",
        "   print(classificar(v, 'Pessoa'))"
      ],
      "execution_count": 70,
      "outputs": [
        {
          "output_type": "stream",
          "name": "stdout",
          "text": [
            "Pessoa é menor de idade:17\n",
            "Pessoa é maior de idade: 38\n",
            "Pessoa é um idoso(a): 70\n",
            "Pessoa é um idoso(a): 80\n"
          ]
        }
      ]
    },
    {
      "cell_type": "markdown",
      "metadata": {
        "id": "3jT7RBLEanco"
      },
      "source": [
        "## Dicionário"
      ]
    },
    {
      "cell_type": "code",
      "metadata": {
        "colab": {
          "base_uri": "https://localhost:8080/"
        },
        "id": "itN3jsOIaqT1",
        "outputId": "a44e6a2a-e185-4a57-ed2d-4e2bbeb34278"
      },
      "source": [
        "linguas = {'pt': 'Português', 'en': 'Inglês'}\n",
        "linguas['pt'], linguas['en']"
      ],
      "execution_count": 73,
      "outputs": [
        {
          "output_type": "execute_result",
          "data": {
            "text/plain": [
              "('Português', 'Inglês')"
            ]
          },
          "metadata": {},
          "execution_count": 73
        }
      ]
    },
    {
      "cell_type": "code",
      "metadata": {
        "colab": {
          "base_uri": "https://localhost:8080/"
        },
        "id": "-M70SKCTbVSo",
        "outputId": "37900e1e-00cc-4158-d7c5-5b041704b146"
      },
      "source": [
        "linguas['es'] = 'Espanhol'\n",
        "linguas"
      ],
      "execution_count": 74,
      "outputs": [
        {
          "output_type": "execute_result",
          "data": {
            "text/plain": [
              "{'en': 'Inglês', 'es': 'Espanhol', 'pt': 'Português'}"
            ]
          },
          "metadata": {},
          "execution_count": 74
        }
      ]
    },
    {
      "cell_type": "code",
      "metadata": {
        "colab": {
          "base_uri": "https://localhost:8080/"
        },
        "id": "_NGsd7hJbl6B",
        "outputId": "10b4465c-58f7-40b6-f399-a1a4bc0dc6ff"
      },
      "source": [
        "for chave in linguas.keys():\n",
        "  print(chave)"
      ],
      "execution_count": 80,
      "outputs": [
        {
          "output_type": "stream",
          "name": "stdout",
          "text": [
            "pt\n",
            "en\n",
            "es\n"
          ]
        }
      ]
    },
    {
      "cell_type": "code",
      "metadata": {
        "colab": {
          "base_uri": "https://localhost:8080/"
        },
        "id": "0g7-L1u2cEtZ",
        "outputId": "bd379594-5922-4afd-c82f-9876bd9bb13c"
      },
      "source": [
        "for valor in linguas.values():\n",
        "  print(valor)"
      ],
      "execution_count": 81,
      "outputs": [
        {
          "output_type": "stream",
          "name": "stdout",
          "text": [
            "Português\n",
            "Inglês\n",
            "Espanhol\n"
          ]
        }
      ]
    },
    {
      "cell_type": "code",
      "metadata": {
        "colab": {
          "base_uri": "https://localhost:8080/"
        },
        "id": "nPFmrB6Nciu7",
        "outputId": "fe73ab95-a83a-4597-e7ed-9db3a53f6e02"
      },
      "source": [
        "for chave, valor in linguas.items():\n",
        "  print(chave, valor)"
      ],
      "execution_count": 82,
      "outputs": [
        {
          "output_type": "stream",
          "name": "stdout",
          "text": [
            "pt Português\n",
            "en Inglês\n",
            "es Espanhol\n"
          ]
        }
      ]
    }
  ]
}